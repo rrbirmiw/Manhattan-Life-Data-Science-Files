{
 "cells": [
  {
   "cell_type": "markdown",
   "metadata": {},
   "source": [
    "# Midterm\n",
    "#### Rahul Birmiwal\n",
    "#### DATA 558 \n",
    "#### Professor Harchoui"
   ]
  },
  {
   "cell_type": "code",
   "execution_count": null,
   "metadata": {},
   "outputs": [],
   "source": []
  },
  {
   "cell_type": "markdown",
   "metadata": {},
   "source": [
    "## Function/Class Source Code"
   ]
  },
  {
   "cell_type": "code",
   "execution_count": 105,
   "metadata": {},
   "outputs": [],
   "source": [
    "\n",
    "\n",
    "class LinearSVM_SquaredLoss_NEW():\n",
    "        def __init__(self,lamb=0.1):\n",
    "            self.betaCoef = None\n",
    "            self.X_train = None\n",
    "            self.y_train = None\n",
    "            self.N = 0\n",
    "            self.D = 0\n",
    "            self.lamb = lamb\n",
    "            self.betas = []\n",
    "            self.currNonZeroIndices = None\n",
    "\n",
    "\n",
    "        def obj(self, beta):\n",
    "            \"\"\"Return scalar value of the objective function for a given beta\"\"\"\n",
    "\n",
    "            X,y,lamb,b = self.X_train.copy(), self.y_train.copy(), self.lamb, beta.copy()\n",
    "            J = 0.0\n",
    "            for i in np.arange(0,self.N):\n",
    "                row = X[:,i]\n",
    "                J += (np.maximum(0, 1- y[i]*row.T.dot(b)))\n",
    "            J *= 1 / self.N\n",
    "            J += lamb*np.linalg.norm(b)**2\n",
    "            return J\n",
    "        def get_batch(self, batch_size=1024):\n",
    "            X=self.X_train.T\n",
    "            y=self.y_train\n",
    "            random_idxs = np.random.choice(len(y), len(y), replace=False)\n",
    "\n",
    "            X_shuffled = X[random_idxs,:]\n",
    "            y_shuffled = y[random_idxs]\n",
    "            mini_batches = [(X_shuffled[i:i+batch_size,:], y_shuffled[i:i+batch_size]) for\n",
    "                           i in range(0, len(y), batch_size)]\n",
    "            return mini_batches\n",
    "        def grad(self, beta):\n",
    "            X,y,lamb,b = self.X_train.copy(), self.y_train.copy(), self.lamb, beta.copy()\n",
    "            J = 0.0\n",
    "            for i in np.arange(0,self.N):\n",
    "                row = (X[:,i])\n",
    "                #print(b.shape)\n",
    "                J += -2.0*(np.maximum(0, 1- y[i]*row.T.dot(b)))*y[i]*X.T[i]\n",
    "            J *= 1 / self.N\n",
    "            J += 2*lamb*b\n",
    "            return J\n",
    "        def computegrad_wrt_batch(self,beta,batch ):\n",
    "            \"\"\"\n",
    "            returns the gradient of obj() defined above for a given beta and lambda\n",
    "            \"\"\"\n",
    "            lamb = self.lamb\n",
    "            X = batch[0].T\n",
    "            y = batch[1]\n",
    "            b = beta\n",
    "            J = 0.0\n",
    "            \n",
    "            for i in np.arange(0,len(y)):\n",
    "                row = (X[:,i])\n",
    "                #print(b.shape)\n",
    "                J += -2.0*(np.maximum(0, 1- y[i]*row.T.dot(b)))*y[i]*X.T[i]\n",
    "            J *= 1 / self.N\n",
    "            J += 2*lamb*b\n",
    "            return J\n",
    "\n",
    "        def bt_line_search(self,x, t, alpha=0.5, beta=0.9, max_iter=1000):\n",
    "            #return 0.0001\n",
    "            \"\"\"\n",
    "            Perform backtracking line search\n",
    "            Inputs:\n",
    "              - x: Current point\n",
    "              - t: Starting (maximum) step size\n",
    "              - alpha: Constant used to define sufficient decrease condition\n",
    "              - beta: Fraction by which we decrease t if the previous t doesn't work\n",
    "              - max_iter: Maximum number of iterations to run the algorithm\n",
    "            Output:\n",
    "              - t: Step size to use\n",
    "            \"\"\"\n",
    "            lamb = self.lamb\n",
    "            grad_x = self.grad(x)  # Gradient at x\n",
    "            norm_grad_x = np.linalg.norm(grad_x)  # Norm of the gradient at x\n",
    "            found_t = False\n",
    "            epsilon = 0.001\n",
    "            i = 0  # Iteration counter\n",
    "            while (found_t is False and i < max_iter):\n",
    "                # INSERT THE SUFFICIENT DECREASE CONDITION FOR BACKTRACKING LINE SEARCH IN THE\n",
    "                # if STATEMENT BELOW.\n",
    "                #print(i)\n",
    "                term_A = self.obj(x - t*grad_x)\n",
    "                term_B = self.obj(x) - alpha*t*norm_grad_x**2\n",
    "                cond = term_A - epsilon < term_B\n",
    "                #print(term_A, \" \", term_B)\n",
    "                if cond:\n",
    "                    found_t = True\n",
    "                elif i == max_iter - 1:\n",
    "                    raise('Maximum number of iterations of backtracking reached')\n",
    "                else:\n",
    "                    # INSERT THE UPDATE TO t HERE\n",
    "                    t *= beta\n",
    "                    i += 1\n",
    "            return t\n",
    "        def stochastic_gd(self,t_init, max_iter,epsilon=0.0001):\n",
    "            lamb = self.lamb\n",
    "            beta_init = np.zeros(self.D)\n",
    "            theta_init = np.zeros(self.D)\n",
    "            b = beta_init\n",
    "            #theta = theta_init\n",
    "\n",
    "            #grad_theta = self.computegrad(theta)\n",
    "            grad_beta = self.grad(b)\n",
    "            self.betas = [b]\n",
    "            t = t_init\n",
    "            \n",
    "            batches_per_iter = 2\n",
    "\n",
    "            iter = 0\n",
    "            velocity = 0 #initial velocity\n",
    "            while iter < max_iter and np.linalg.norm(grad_beta) > epsilon:\n",
    "                if (iter%50==0):\n",
    "                    print(iter, \" \", np.linalg.norm(grad_beta))\n",
    "\n",
    "                shuffledBatches = self.get_batch()\n",
    "                for batch in shuffledBatches[0 : batches_per_iter-1]:\n",
    "                    grad_beta = self.computegrad_wrt_batch(b,batch)\n",
    "                    \"\"\"Momentum Step\"\"\"\n",
    "                    if (iter < 100):\n",
    "                        gamma = 0.5\n",
    "                    else:\n",
    "                        gamma = 0.9\n",
    "                    velocity = gamma*velocity + t*grad_beta\n",
    "                    b = b - velocity\n",
    "\n",
    "                grad_beta = self.computegrad_wrt_batch(b,batch)\n",
    "                iter += 1\n",
    "                self.betas.append(b)\n",
    "            self.betaCoef =  np.array(self.betas[-1])\n",
    "        def mylinearsvm(self,t_init, max_iter):\n",
    "\n",
    "            lamb = self.lamb\n",
    "            beta_init = np.zeros(self.D)\n",
    "            theta_init = np.zeros(self.D)\n",
    "\n",
    "            b = beta_init\n",
    "            theta = theta_init\n",
    "\n",
    "            grad_theta = self.grad(theta)\n",
    "            grad_beta = self.grad(b)\n",
    "\n",
    "            self.betas = [b]\n",
    "            t = t_init\n",
    "            iter = 0\n",
    "            while iter < max_iter:\n",
    "\n",
    "                #compute eta via backtracking\n",
    "                t = self.bt_line_search(b, t,lamb)\n",
    "\n",
    "                #print(iter, \" \", np.linalg.norm(grad_beta))\n",
    "\n",
    "                #updates to beta/theta\n",
    "                prior_b = b\n",
    "                b = theta - t*grad_theta\n",
    "                theta = b + (iter/(iter+3))*(b-prior_b)\n",
    "\n",
    "                grad_theta = self.grad(theta)\n",
    "                grad_beta = self.grad(b)\n",
    "                iter += 1\n",
    "                self.betas.append(b)\n",
    "\n",
    "            self.betaCoef =  np.array(self.betas[-1])\n",
    "\n",
    "\n",
    "\n",
    "        def fit(self, X_train,y_train, method,t_init = 2/IMAGENET_MAX_EIGENVALUE, max_iter = 1000):\n",
    "            \"\"\"Fit _this_ classifier to training data. Also provide step size and maximum\n",
    "               number of iterations for gradient descent\n",
    "\n",
    "               Arguments:\n",
    "                   -X_train (dataframe d x n )\n",
    "                   -y_train (nx1 numpy array )\n",
    "                   - t_init (float): initial step size for gradient descent. Default is the lipschitz Constant\n",
    "                         i.e. the 2 / maxeigenvalue of (X^TX + LambdaId)\n",
    "                   -max_iter (int): maximum number of iterations\n",
    "            \"\"\"\n",
    "            self.X_train=X_train\n",
    "            self.y_train = y_train\n",
    "            self.N,self.D = X_train.shape[1],X_train.shape[0]\n",
    "            if (method == 'fastgradalgo'):\n",
    "                self.mylinearsvm(t_init, max_iter)\n",
    "            elif (method == 'SGD'):\n",
    "                self.stochastic_gd(t_init,max_iter)\n",
    "            else:\n",
    "                pass\n",
    "        def score(self, X_test,y_test):\n",
    "            predictions = hypothesis(X_test, self.betaCoef)\n",
    "            return np.mean(y_test==predictions)\n",
    "\n",
    "def hypothesis(X, beta):\n",
    "    return np.sign(np.matmul(X.T, beta))\n",
    "def misclassification_error(X,y_actual,beta_iterates):\n",
    "\n",
    "    predictions = [hypothesis(X,beta_iterates[k]) for k in range(0,len(beta_iterates))]\n",
    "    errs = [(1 - np.mean(predictions[k]==y_actual) ) for k in range(0,len(predictions))]\n",
    "    return errs\n",
    "def my_cross_validation(X, y,iters,N_SPLITS=3 ):\n",
    "\n",
    "    kf = KFold(n_splits=N_SPLITS)\n",
    "    sum = 0\n",
    "    t_init = 0.001\n",
    "\n",
    "    lambs = np.logspace(-4,4,num=20)\n",
    "    best_lamb = 0\n",
    "    best_score=-9999\n",
    "    for lam in lambs:\n",
    "        sum_score = 0.0\n",
    "        print(\"...Running classifier with lambda={}\".format(lam))\n",
    "        for train_index, test_index in kf.split(X):\n",
    "            X_train, X_test = X[train_index], X[test_index]\n",
    "            y_train, y_test = y[train_index], y[test_index]\n",
    "            classifier = LinearSVM_SquaredLoss_NEW(lam)\n",
    "\n",
    "            #ensuring transposed input\n",
    "            classifier.fit(X_train.T,y_train,'SGD', t_init, iters)\n",
    "            score = classifier.score(X_test.T, y_test)\n",
    "            sum_score += score\n",
    "        avg_score = sum_score / N_SPLITS\n",
    "        print(\"Lambda {} had accuracy score of {}\".format(lam, avg_score))\n",
    "        if (avg_score > best_score):\n",
    "            best_score = avg_score\n",
    "            best_lamb = lam\n",
    "    return best_lamb\n",
    "\n",
    "\n",
    "def fit(bird1 = 'toucan', bird2 = 'hornbill'):\n",
    "    (X_train,y_train,X_test,y_test) = load_bird_data(bird1, bird2)\n",
    "    t_init = 2/IMAGENET_MAX_EIGENVALUE\n",
    "    t_init = 1.0\n",
    "    lamb = 1.0\n",
    "    max_iter = 1000\n",
    "\n",
    "    svm_clf = LinearSVM_SquaredLoss_NEW(lamb)\n",
    "    svm_clf.fit(X_train.T,y_train,t_init,max_iter)\n",
    "    beta_iterates = svm_clf.betas\n",
    "    np.savetxt('betaIterates_' + bird1+bird2+'_SGD.csv', beta_iterates, delimiter=\" \", fmt='%.9f')\n",
    "\n",
    "def classify(setName, beta_file_path):\n",
    "    (X_train,y_train,X_test,y_test) = load_bird_data('toucan', 'hornbill')\n",
    "    beta_iterates = np.genfromtxt(beta_file_path, delimiter= \" \")\n",
    "    if (setName == 'Training'):\n",
    "        errs = misclassification_error(X_train.T, y_train, beta_iterates)\n",
    "    else:\n",
    "        errs = misclassification_error(X_test.T, y_test, beta_iterates)\n",
    "    print(errs)\n",
    "\n",
    "def cross_validation_tuning():\n",
    "    iters = 200\n",
    "    (X_train,y_train,X_test,y_test) = load_bird_data('hornbill', 'toucan')\n",
    "\n",
    "    optimal_lamb = my_cross_validation(X_train,y_train,iters)\n",
    "    print(\"optimal lambda found is {}\".format(optimal_lamb))\n"
   ]
  },
  {
   "cell_type": "markdown",
   "metadata": {},
   "source": [
    "## Problem 1 "
   ]
  },
  {
   "cell_type": "code",
   "execution_count": 291,
   "metadata": {},
   "outputs": [
    {
     "name": "stdout",
     "output_type": "stream",
     "text": [
      "(4600, 57) (4600,)\n"
     ]
    }
   ],
   "source": [
    "\"\"\"Load spam training data \"\"\"\n",
    "\n",
    "spamData = pd.read_csv('spam.csv', sep=' ', header=0)\n",
    "\n",
    "y_train = spamData.iloc[:,-1]\n",
    "y_train = np.where(y_train==0,-1,1) #ensure -1/1 labeling for svm \n",
    "\n",
    "X_train=  spamData.iloc[:, :-1]\n",
    "\n",
    "# Standardize the data\n",
    "scaler = preprocessing.StandardScaler().fit(X_train)\n",
    "X_train = scaler.transform(X_train)\n",
    "print(X_train.shape, y_train.shape)"
   ]
  },
  {
   "cell_type": "markdown",
   "metadata": {},
   "source": [
    "\n",
    "Train your linear support vector machine with the squared hinge loss on the the Spam dataset for the λ = 1. Report your misclassification error for this value of λ."
   ]
  },
  {
   "cell_type": "code",
   "execution_count": 296,
   "metadata": {},
   "outputs": [
    {
     "name": "stdout",
     "output_type": "stream",
     "text": [
      "Maximum eigenvalue for the spam dataset is:8.591888493239582\n",
      "Initial Eta for Gradient Descent will therefore be: 0.2327776950985426\n"
     ]
    }
   ],
   "source": [
    "\"\"\"Compute the maximum eigenvalue of X^TX + LambdaI for Lipschitz Constant\"\"\"\n",
    "lamb = 1.0\n",
    "max_eig = max_eigenvalue(X_train.shape[0],lamb, X_train,y_train)\n",
    "print(\"Maximum eigenvalue for the spam dataset is:{}\".format(max_eig))\n",
    "L_constant = 2/max_eig\n",
    "print(\"Initial Eta for Gradient Descent will therefore be: {}\".format(L_constant))\n",
    "\n",
    "\"\"\"Fit classifer\"\"\"\n",
    "svm_clf = LinearSVM_SquaredLoss_NEW(lamb)\n",
    "svm_clf.fit(X_train.T, y_train, L_constant, 1000)"
   ]
  },
  {
   "cell_type": "code",
   "execution_count": 301,
   "metadata": {},
   "outputs": [],
   "source": [
    "final_beta = svm_clf.betaCoef\n",
    "np.savetxt('MT_p1-4_finalbeta.csv',final_beta,delimiter=\" \")\n",
    "\n",
    "beta_iterates = svm_clf.betas\n",
    "np.savetxt('MT_p1-4_betaIterates.csv',beta_iterates,delimiter=\" \")\n",
    "\n"
   ]
  },
  {
   "cell_type": "code",
   "execution_count": 307,
   "metadata": {},
   "outputs": [
    {
     "data": {
      "text/plain": [
       "0.9104347826086957"
      ]
     },
     "execution_count": 307,
     "metadata": {},
     "output_type": "execute_result"
    }
   ],
   "source": [
    "\"\"\"Misclassification Error on Training Set\"\"\"\n",
    "\n",
    "err = 1 - svm_clf.score(X_train.T,y_train)\n",
    "print(\"Misclassification error on training set with Lambda=1.0 is \", err)"
   ]
  },
  {
   "cell_type": "markdown",
   "metadata": {},
   "source": [
    "Find the optimal value of λ using 5-fold cross-validation, and boost iterations back to 1000 here. Report your misclassification error for that value of λ."
   ]
  },
  {
   "cell_type": "code",
   "execution_count": 313,
   "metadata": {},
   "outputs": [
    {
     "name": "stdout",
     "output_type": "stream",
     "text": [
      "...Running classifier with lambda=1\n",
      "Lambda 1 had accuracy score of 0.8652198355007735\n",
      "...Running classifier with lambda=11\n",
      "Lambda 11 had accuracy score of 0.8789079764236486\n",
      "...Running classifier with lambda=21\n"
     ]
    },
    {
     "ename": "KeyboardInterrupt",
     "evalue": "",
     "output_type": "error",
     "traceback": [
      "\u001b[0;31m---------------------------------------------------------------------------\u001b[0m",
      "\u001b[0;31mKeyboardInterrupt\u001b[0m                         Traceback (most recent call last)",
      "\u001b[0;32m<ipython-input-313-a44244db2ad2>\u001b[0m in \u001b[0;36m<module>\u001b[0;34m()\u001b[0m\n\u001b[1;32m      1\u001b[0m \u001b[0miters\u001b[0m\u001b[0;34m=\u001b[0m\u001b[0;36m1000\u001b[0m\u001b[0;34m\u001b[0m\u001b[0m\n\u001b[1;32m      2\u001b[0m optimal_lamb = my_cross_validation(X_train,y_train,iters,\n\u001b[0;32m----> 3\u001b[0;31m                                    N_SPLITS=5, lambdaParams = np.arange(1,100,10))\n\u001b[0m\u001b[1;32m      4\u001b[0m \u001b[0mprint\u001b[0m\u001b[0;34m(\u001b[0m\u001b[0;34m\"optimal lambda found is {}\"\u001b[0m\u001b[0;34m.\u001b[0m\u001b[0mformat\u001b[0m\u001b[0;34m(\u001b[0m\u001b[0moptimal_lamb\u001b[0m\u001b[0;34m)\u001b[0m\u001b[0;34m)\u001b[0m\u001b[0;34m\u001b[0m\u001b[0m\n",
      "\u001b[0;32m<ipython-input-310-25493fff43b6>\u001b[0m in \u001b[0;36mmy_cross_validation\u001b[0;34m(X, y, iters, N_SPLITS, lambdaParams)\u001b[0m\n\u001b[1;32m    214\u001b[0m \u001b[0;34m\u001b[0m\u001b[0m\n\u001b[1;32m    215\u001b[0m             \u001b[0;31m#ensuring transposed input\u001b[0m\u001b[0;34m\u001b[0m\u001b[0;34m\u001b[0m\u001b[0m\n\u001b[0;32m--> 216\u001b[0;31m             \u001b[0mclassifier\u001b[0m\u001b[0;34m.\u001b[0m\u001b[0mfit\u001b[0m\u001b[0;34m(\u001b[0m\u001b[0mX_train\u001b[0m\u001b[0;34m.\u001b[0m\u001b[0mT\u001b[0m\u001b[0;34m,\u001b[0m \u001b[0my_train\u001b[0m\u001b[0;34m,\u001b[0m\u001b[0mt_init\u001b[0m\u001b[0;34m,\u001b[0m \u001b[0miters\u001b[0m\u001b[0;34m)\u001b[0m\u001b[0;34m\u001b[0m\u001b[0m\n\u001b[0m\u001b[1;32m    217\u001b[0m             \u001b[0mscore\u001b[0m \u001b[0;34m=\u001b[0m \u001b[0mclassifier\u001b[0m\u001b[0;34m.\u001b[0m\u001b[0mscore\u001b[0m\u001b[0;34m(\u001b[0m\u001b[0mX_test\u001b[0m\u001b[0;34m.\u001b[0m\u001b[0mT\u001b[0m\u001b[0;34m,\u001b[0m \u001b[0my_test\u001b[0m\u001b[0;34m)\u001b[0m\u001b[0;34m\u001b[0m\u001b[0m\n\u001b[1;32m    218\u001b[0m             \u001b[0msum_score\u001b[0m \u001b[0;34m+=\u001b[0m \u001b[0mscore\u001b[0m\u001b[0;34m\u001b[0m\u001b[0m\n",
      "\u001b[0;32m<ipython-input-310-25493fff43b6>\u001b[0m in \u001b[0;36mfit\u001b[0;34m(self, X_train, y_train, t_init, max_iter)\u001b[0m\n\u001b[1;32m    178\u001b[0m             \u001b[0mself\u001b[0m\u001b[0;34m.\u001b[0m\u001b[0mN\u001b[0m\u001b[0;34m,\u001b[0m\u001b[0mself\u001b[0m\u001b[0;34m.\u001b[0m\u001b[0mD\u001b[0m \u001b[0;34m=\u001b[0m \u001b[0mX_train\u001b[0m\u001b[0;34m.\u001b[0m\u001b[0mshape\u001b[0m\u001b[0;34m[\u001b[0m\u001b[0;36m1\u001b[0m\u001b[0;34m]\u001b[0m\u001b[0;34m,\u001b[0m\u001b[0mX_train\u001b[0m\u001b[0;34m.\u001b[0m\u001b[0mshape\u001b[0m\u001b[0;34m[\u001b[0m\u001b[0;36m0\u001b[0m\u001b[0;34m]\u001b[0m\u001b[0;34m\u001b[0m\u001b[0m\n\u001b[1;32m    179\u001b[0m \u001b[0;34m\u001b[0m\u001b[0m\n\u001b[0;32m--> 180\u001b[0;31m             \u001b[0mself\u001b[0m\u001b[0;34m.\u001b[0m\u001b[0mmylinearsvm\u001b[0m\u001b[0;34m(\u001b[0m\u001b[0mt_init\u001b[0m\u001b[0;34m,\u001b[0m \u001b[0mmax_iter\u001b[0m\u001b[0;34m)\u001b[0m\u001b[0;34m\u001b[0m\u001b[0m\n\u001b[0m\u001b[1;32m    181\u001b[0m         \u001b[0;32mdef\u001b[0m \u001b[0mscore\u001b[0m\u001b[0;34m(\u001b[0m\u001b[0mself\u001b[0m\u001b[0;34m,\u001b[0m \u001b[0mX_test\u001b[0m\u001b[0;34m,\u001b[0m\u001b[0my_test\u001b[0m\u001b[0;34m)\u001b[0m\u001b[0;34m:\u001b[0m\u001b[0;34m\u001b[0m\u001b[0m\n\u001b[1;32m    182\u001b[0m             \u001b[0mpredictions\u001b[0m \u001b[0;34m=\u001b[0m \u001b[0mhypothesis\u001b[0m\u001b[0;34m(\u001b[0m\u001b[0mX_test\u001b[0m\u001b[0;34m,\u001b[0m \u001b[0mself\u001b[0m\u001b[0;34m.\u001b[0m\u001b[0mbetaCoef\u001b[0m\u001b[0;34m)\u001b[0m\u001b[0;34m\u001b[0m\u001b[0m\n",
      "\u001b[0;32m<ipython-input-310-25493fff43b6>\u001b[0m in \u001b[0;36mmylinearsvm\u001b[0;34m(self, t_init, max_iter)\u001b[0m\n\u001b[1;32m    155\u001b[0m \u001b[0;34m\u001b[0m\u001b[0m\n\u001b[1;32m    156\u001b[0m                 \u001b[0mgrad_theta\u001b[0m \u001b[0;34m=\u001b[0m \u001b[0mself\u001b[0m\u001b[0;34m.\u001b[0m\u001b[0mgrad\u001b[0m\u001b[0;34m(\u001b[0m\u001b[0mtheta\u001b[0m\u001b[0;34m)\u001b[0m\u001b[0;34m\u001b[0m\u001b[0m\n\u001b[0;32m--> 157\u001b[0;31m                 \u001b[0mgrad_beta\u001b[0m \u001b[0;34m=\u001b[0m \u001b[0mself\u001b[0m\u001b[0;34m.\u001b[0m\u001b[0mgrad\u001b[0m\u001b[0;34m(\u001b[0m\u001b[0mb\u001b[0m\u001b[0;34m)\u001b[0m\u001b[0;34m\u001b[0m\u001b[0m\n\u001b[0m\u001b[1;32m    158\u001b[0m                 \u001b[0miter\u001b[0m \u001b[0;34m+=\u001b[0m \u001b[0;36m1\u001b[0m\u001b[0;34m\u001b[0m\u001b[0m\n\u001b[1;32m    159\u001b[0m                 \u001b[0mself\u001b[0m\u001b[0;34m.\u001b[0m\u001b[0mbetas\u001b[0m\u001b[0;34m.\u001b[0m\u001b[0mappend\u001b[0m\u001b[0;34m(\u001b[0m\u001b[0mb\u001b[0m\u001b[0;34m)\u001b[0m\u001b[0;34m\u001b[0m\u001b[0m\n",
      "\u001b[0;32m<ipython-input-310-25493fff43b6>\u001b[0m in \u001b[0;36mgrad\u001b[0;34m(self, beta)\u001b[0m\n\u001b[1;32m     85\u001b[0m                 \u001b[0mrow\u001b[0m \u001b[0;34m=\u001b[0m \u001b[0;34m(\u001b[0m\u001b[0mX\u001b[0m\u001b[0;34m[\u001b[0m\u001b[0;34m:\u001b[0m\u001b[0;34m,\u001b[0m\u001b[0mi\u001b[0m\u001b[0;34m]\u001b[0m\u001b[0;34m)\u001b[0m\u001b[0;34m\u001b[0m\u001b[0m\n\u001b[1;32m     86\u001b[0m                 \u001b[0;31m#print(b.shape)\u001b[0m\u001b[0;34m\u001b[0m\u001b[0;34m\u001b[0m\u001b[0m\n\u001b[0;32m---> 87\u001b[0;31m                 \u001b[0mJ\u001b[0m \u001b[0;34m+=\u001b[0m \u001b[0;34m-\u001b[0m\u001b[0;36m2.0\u001b[0m\u001b[0;34m*\u001b[0m\u001b[0;34m(\u001b[0m\u001b[0mnp\u001b[0m\u001b[0;34m.\u001b[0m\u001b[0mmaximum\u001b[0m\u001b[0;34m(\u001b[0m\u001b[0;36m0\u001b[0m\u001b[0;34m,\u001b[0m \u001b[0;36m1\u001b[0m\u001b[0;34m-\u001b[0m \u001b[0my\u001b[0m\u001b[0;34m[\u001b[0m\u001b[0mi\u001b[0m\u001b[0;34m]\u001b[0m\u001b[0;34m*\u001b[0m\u001b[0mrow\u001b[0m\u001b[0;34m.\u001b[0m\u001b[0mT\u001b[0m\u001b[0;34m.\u001b[0m\u001b[0mdot\u001b[0m\u001b[0;34m(\u001b[0m\u001b[0mb\u001b[0m\u001b[0;34m)\u001b[0m\u001b[0;34m)\u001b[0m\u001b[0;34m)\u001b[0m\u001b[0;34m*\u001b[0m\u001b[0my\u001b[0m\u001b[0;34m[\u001b[0m\u001b[0mi\u001b[0m\u001b[0;34m]\u001b[0m\u001b[0;34m*\u001b[0m\u001b[0mX\u001b[0m\u001b[0;34m.\u001b[0m\u001b[0mT\u001b[0m\u001b[0;34m[\u001b[0m\u001b[0mi\u001b[0m\u001b[0;34m]\u001b[0m\u001b[0;34m\u001b[0m\u001b[0m\n\u001b[0m\u001b[1;32m     88\u001b[0m             \u001b[0mJ\u001b[0m \u001b[0;34m*=\u001b[0m \u001b[0;36m1\u001b[0m \u001b[0;34m/\u001b[0m \u001b[0mself\u001b[0m\u001b[0;34m.\u001b[0m\u001b[0mN\u001b[0m\u001b[0;34m\u001b[0m\u001b[0m\n\u001b[1;32m     89\u001b[0m             \u001b[0mJ\u001b[0m \u001b[0;34m+=\u001b[0m \u001b[0;36m2\u001b[0m\u001b[0;34m*\u001b[0m\u001b[0mlamb\u001b[0m\u001b[0;34m*\u001b[0m\u001b[0mb\u001b[0m\u001b[0;34m\u001b[0m\u001b[0m\n",
      "\u001b[0;31mKeyboardInterrupt\u001b[0m: "
     ]
    }
   ],
   "source": [
    "iters=1000\n",
    "optimal_lamb = my_cross_validation(X_train,y_train,iters,\n",
    "                                   N_SPLITS=5, lambdaParams = np.arange(1,100,10))\n",
    "print(\"optimal lambda found is {}\".format(optimal_lamb))"
   ]
  },
  {
   "cell_type": "markdown",
   "metadata": {},
   "source": [
    "Seems the optimal value for lambda is 50. It has misclassification error of 1.0 - 0.8782 ~= 12.18% We can now 'zoom in' on this region now and rerun cross validation using 5-fold cross validation: "
   ]
  },
  {
   "cell_type": "markdown",
   "metadata": {},
   "source": [
    "## PROBLEM 2"
   ]
  },
  {
   "cell_type": "markdown",
   "metadata": {},
   "source": [
    "Pick two classes of your choice from the dataset. Train a classifier using a linear support vector machine with the squared hinge loss on the training set using your own fast gradient algorithm with λ = 1. Be sure to use the features you generated in the homeworks rather than the raw image features. Plot, with different colors, the misclassification error on the training set and on the validation set vs iterations.\n",
    "\n",
    "This problem was done on AWS. In the above code, in function fit() will run extract_features.py on folders containing hornbill and toucan images respectively and standardize this data into resultant x_train, y_train, etc. sets. The SVM was fitted to this training data and the beta iterates from fast gradient descent were saved to a csv file (attached to this submission folder). We load that here and use that to plot misclassification error. \n",
    "\n"
   ]
  },
  {
   "cell_type": "code",
   "execution_count": 61,
   "metadata": {},
   "outputs": [],
   "source": [
    "x_train = np.genfromtxt('X_train_hornbilltoucan.csv', delimiter = \" \")\n",
    "y_train = np.genfromtxt('y_train_hornbilltoucan.csv', delimiter = \" \")\n",
    "x_test = np.genfromtxt('X_test_hornbilltoucan.csv', delimiter = \" \")\n",
    "y_test = np.genfromtxt('y_test_hornbilltoucan.csv', delimiter = \" \")\n",
    "\n",
    "\n",
    "\n",
    "from sklearn.preprocessing import StandardScaler\n",
    "scaler = StandardScaler()\n",
    "x_train = scaler.fit_transform(x_train)\n",
    "x_test = scaler.transform(x_test)\n",
    "\n"
   ]
  },
  {
   "cell_type": "markdown",
   "metadata": {},
   "source": [
    "### TESTING Classifier: Fast Gradient Method vs. Stochastic Gradient Descent"
   ]
  },
  {
   "cell_type": "code",
   "execution_count": 88,
   "metadata": {},
   "outputs": [
    {
     "name": "stdout",
     "output_type": "stream",
     "text": [
      "0   10.407290630002372\n",
      "50   0.9266402820116326\n",
      "100   0.4487171333889922\n",
      "150   0.03532086473793412\n",
      "200   0.0050150467851801045\n",
      "250   0.001133881434601202\n",
      "300   0.00029268796375934834\n"
     ]
    }
   ],
   "source": [
    "t_init = 0.001\n",
    "lamb = 1.0\n",
    "max_iter=1000\n",
    "\n",
    "clf = LinearSVM_SquaredLoss_NEW(lamb)\n",
    "clf.fit(x_train.T, y_train, 'SGD',t_init, max_iter)"
   ]
  },
  {
   "cell_type": "markdown",
   "metadata": {},
   "source": [
    "### TESTING Continued...Misclassification Error Tests"
   ]
  },
  {
   "cell_type": "code",
   "execution_count": 89,
   "metadata": {},
   "outputs": [
    {
     "data": {
      "image/png": "[encoded data removed]",
      "text/plain": [
       "<Figure size 432x288 with 1 Axes>"
      ]
     },
     "metadata": {},
     "output_type": "display_data"
    }
   ],
   "source": [
    "betaIterates = clf.betas\n",
    "\n",
    "training_data_errs = misclassification_error(x_train.T, y_train, betaIterates)\n",
    "validation_data_errs = misclassification_error(x_test.T, y_test, betaIterates)\n",
    "from matplotlib import pyplot as plt\n",
    "\n",
    "plt.plot(training_data_errs, 'r',label='training err')\n",
    "plt.plot(validation_data_errs, 'g',label='validation err')\n",
    "plt.legend()\n",
    "plt.title('Stochastic Gradient Descent Misclassification Errors with Lambda = 1')\n",
    "plt.show()"
   ]
  },
  {
   "cell_type": "markdown",
   "metadata": {},
   "source": [
    "Now let's retrieve the beta iterates obtained using the fast gradient method, and compare errors of the two methods (SGD,FGD) as functions of iterations. _Note_: We zoom in on the bottom-left region to get a better picture"
   ]
  },
  {
   "cell_type": "code",
   "execution_count": 93,
   "metadata": {},
   "outputs": [],
   "source": [
    "\n",
    "betaIterates = np.genfromtxt('betaIterates_ToucanHornbill.csv', delimiter = \" \")\n",
    "\n",
    "\n",
    "training_data_errs_fgd = misclassification_error(x_train.T, y_train, betaIterates)\n",
    "validation_data_errs_fgd = misclassification_error(x_test.T, y_test, betaIterates)\n"
   ]
  },
  {
   "cell_type": "code",
   "execution_count": 102,
   "metadata": {},
   "outputs": [
    {
     "data": {
      "image/png": "[encoded data removed]",
      "text/plain": [
       "<Figure size 432x288 with 1 Axes>"
      ]
     },
     "metadata": {},
     "output_type": "display_data"
    }
   ],
   "source": [
    "plt.plot(training_data_errs, 'r',label='training err SGD')\n",
    "plt.plot(validation_data_errs, 'g',label='validation err SGD')\n",
    "plt.plot(training_data_errs_fgd, 'b',label='training err FGM')\n",
    "plt.plot(validation_data_errs_fgd, 'y',label='validation err FGM')\n",
    "plt.legend()\n",
    "plt.xlim(0,400)\n",
    "plt.ylim(0,0.4)\n",
    "plt.title('Comparison of Methods\\' Misclassification Errors with Lambda = 1')\n",
    "plt.show()"
   ]
  },
  {
   "cell_type": "markdown",
   "metadata": {},
   "source": [
    "Find the value of the regularization parameter λ using 3-fold cross-validation; write your own function for this purpose. Train a classifier using a linear support vector machine with the squared hinge loss on the training set using your own fast gradient algorithm with that value of λ found by 3-fold cross-validation. Plot, with different colors, the misclassification error on the training set and on the test set vs iterations.\n",
    "\n",
    "We use the my_cross_validation function above. This was run on AWS. The output text, showing lambda-score pairs is shown below this function code. "
   ]
  },
  {
   "cell_type": "code",
   "execution_count": 106,
   "metadata": {},
   "outputs": [
    {
     "name": "stdout",
     "output_type": "stream",
     "text": [
      "...Running classifier with lambda=0.0001\n",
      "0   10.62131782952719\n",
      "50   1.1263283586834099\n",
      "100   0.6047119994641555\n",
      "150   0.06482776151511563\n",
      "200   0.010779092324122231\n",
      "0   11.275084664410148\n",
      "50   1.0715666444396517\n",
      "100   0.5530030950066427\n",
      "150   0.0665223329671499\n",
      "200   0.01024154604103865\n",
      "0   10.134550971156465\n",
      "50   1.1041316141674804\n",
      "100   0.5765252855844158\n",
      "150   0.07300427436545111\n",
      "200   0.014672163804645335\n",
      "Lambda 0.0001 had accuracy score of 0.8149736562910216\n",
      "...Running classifier with lambda=0.00026366508987303583\n",
      "0   10.62131782952719\n",
      "50   1.1262870994943035\n"
     ]
    },
    {
     "ename": "KeyboardInterrupt",
     "evalue": "",
     "output_type": "error",
     "traceback": [
      "\u001b[0;31m---------------------------------------------------------------------------\u001b[0m",
      "\u001b[0;31mKeyboardInterrupt\u001b[0m                         Traceback (most recent call last)",
      "\u001b[0;32m<ipython-input-106-b713aabcfd7d>\u001b[0m in \u001b[0;36m<module>\u001b[0;34m()\u001b[0m\n\u001b[0;32m----> 1\u001b[0;31m \u001b[0mbest_lamb\u001b[0m \u001b[0;34m=\u001b[0m \u001b[0mmy_cross_validation\u001b[0m\u001b[0;34m(\u001b[0m\u001b[0mx_train\u001b[0m\u001b[0;34m,\u001b[0m\u001b[0my_train\u001b[0m\u001b[0;34m,\u001b[0m\u001b[0;36m250\u001b[0m\u001b[0;34m,\u001b[0m\u001b[0;36m3\u001b[0m\u001b[0;34m)\u001b[0m\u001b[0;34m\u001b[0m\u001b[0m\n\u001b[0m",
      "\u001b[0;32m<ipython-input-105-50bc84583961>\u001b[0m in \u001b[0;36mmy_cross_validation\u001b[0;34m(X, y, iters, N_SPLITS)\u001b[0m\n\u001b[1;32m    218\u001b[0m \u001b[0;34m\u001b[0m\u001b[0m\n\u001b[1;32m    219\u001b[0m             \u001b[0;31m#ensuring transposed input\u001b[0m\u001b[0;34m\u001b[0m\u001b[0;34m\u001b[0m\u001b[0m\n\u001b[0;32m--> 220\u001b[0;31m             \u001b[0mclassifier\u001b[0m\u001b[0;34m.\u001b[0m\u001b[0mfit\u001b[0m\u001b[0;34m(\u001b[0m\u001b[0mX_train\u001b[0m\u001b[0;34m.\u001b[0m\u001b[0mT\u001b[0m\u001b[0;34m,\u001b[0m\u001b[0my_train\u001b[0m\u001b[0;34m,\u001b[0m\u001b[0;34m'SGD'\u001b[0m\u001b[0;34m,\u001b[0m \u001b[0mt_init\u001b[0m\u001b[0;34m,\u001b[0m \u001b[0miters\u001b[0m\u001b[0;34m)\u001b[0m\u001b[0;34m\u001b[0m\u001b[0m\n\u001b[0m\u001b[1;32m    221\u001b[0m             \u001b[0mscore\u001b[0m \u001b[0;34m=\u001b[0m \u001b[0mclassifier\u001b[0m\u001b[0;34m.\u001b[0m\u001b[0mscore\u001b[0m\u001b[0;34m(\u001b[0m\u001b[0mX_test\u001b[0m\u001b[0;34m.\u001b[0m\u001b[0mT\u001b[0m\u001b[0;34m,\u001b[0m \u001b[0my_test\u001b[0m\u001b[0;34m)\u001b[0m\u001b[0;34m\u001b[0m\u001b[0m\n\u001b[1;32m    222\u001b[0m             \u001b[0msum_score\u001b[0m \u001b[0;34m+=\u001b[0m \u001b[0mscore\u001b[0m\u001b[0;34m\u001b[0m\u001b[0m\n",
      "\u001b[0;32m<ipython-input-105-50bc84583961>\u001b[0m in \u001b[0;36mfit\u001b[0;34m(self, X_train, y_train, method, t_init, max_iter)\u001b[0m\n\u001b[1;32m    186\u001b[0m                 \u001b[0mself\u001b[0m\u001b[0;34m.\u001b[0m\u001b[0mmylinearsvm\u001b[0m\u001b[0;34m(\u001b[0m\u001b[0mt_init\u001b[0m\u001b[0;34m,\u001b[0m \u001b[0mmax_iter\u001b[0m\u001b[0;34m)\u001b[0m\u001b[0;34m\u001b[0m\u001b[0m\n\u001b[1;32m    187\u001b[0m             \u001b[0;32melif\u001b[0m \u001b[0;34m(\u001b[0m\u001b[0mmethod\u001b[0m \u001b[0;34m==\u001b[0m \u001b[0;34m'SGD'\u001b[0m\u001b[0;34m)\u001b[0m\u001b[0;34m:\u001b[0m\u001b[0;34m\u001b[0m\u001b[0m\n\u001b[0;32m--> 188\u001b[0;31m                 \u001b[0mself\u001b[0m\u001b[0;34m.\u001b[0m\u001b[0mstochastic_gd\u001b[0m\u001b[0;34m(\u001b[0m\u001b[0mt_init\u001b[0m\u001b[0;34m,\u001b[0m\u001b[0mmax_iter\u001b[0m\u001b[0;34m)\u001b[0m\u001b[0;34m\u001b[0m\u001b[0m\n\u001b[0m\u001b[1;32m    189\u001b[0m             \u001b[0;32melse\u001b[0m\u001b[0;34m:\u001b[0m\u001b[0;34m\u001b[0m\u001b[0m\n\u001b[1;32m    190\u001b[0m                 \u001b[0;32mpass\u001b[0m\u001b[0;34m\u001b[0m\u001b[0m\n",
      "\u001b[0;32m<ipython-input-105-50bc84583961>\u001b[0m in \u001b[0;36mstochastic_gd\u001b[0;34m(self, t_init, max_iter, epsilon)\u001b[0m\n\u001b[1;32m    118\u001b[0m                     \u001b[0mprint\u001b[0m\u001b[0;34m(\u001b[0m\u001b[0miter\u001b[0m\u001b[0;34m,\u001b[0m \u001b[0;34m\" \"\u001b[0m\u001b[0;34m,\u001b[0m \u001b[0mnp\u001b[0m\u001b[0;34m.\u001b[0m\u001b[0mlinalg\u001b[0m\u001b[0;34m.\u001b[0m\u001b[0mnorm\u001b[0m\u001b[0;34m(\u001b[0m\u001b[0mgrad_beta\u001b[0m\u001b[0;34m)\u001b[0m\u001b[0;34m)\u001b[0m\u001b[0;34m\u001b[0m\u001b[0m\n\u001b[1;32m    119\u001b[0m \u001b[0;34m\u001b[0m\u001b[0m\n\u001b[0;32m--> 120\u001b[0;31m                 \u001b[0mshuffledBatches\u001b[0m \u001b[0;34m=\u001b[0m \u001b[0mself\u001b[0m\u001b[0;34m.\u001b[0m\u001b[0mget_batch\u001b[0m\u001b[0;34m(\u001b[0m\u001b[0;34m)\u001b[0m\u001b[0;34m\u001b[0m\u001b[0m\n\u001b[0m\u001b[1;32m    121\u001b[0m                 \u001b[0;32mfor\u001b[0m \u001b[0mbatch\u001b[0m \u001b[0;32min\u001b[0m \u001b[0mshuffledBatches\u001b[0m\u001b[0;34m[\u001b[0m\u001b[0;36m0\u001b[0m \u001b[0;34m:\u001b[0m \u001b[0mbatches_per_iter\u001b[0m\u001b[0;34m-\u001b[0m\u001b[0;36m1\u001b[0m\u001b[0;34m]\u001b[0m\u001b[0;34m:\u001b[0m\u001b[0;34m\u001b[0m\u001b[0m\n\u001b[1;32m    122\u001b[0m                     \u001b[0mgrad_beta\u001b[0m \u001b[0;34m=\u001b[0m \u001b[0mself\u001b[0m\u001b[0;34m.\u001b[0m\u001b[0mcomputegrad_wrt_batch\u001b[0m\u001b[0;34m(\u001b[0m\u001b[0mb\u001b[0m\u001b[0;34m,\u001b[0m\u001b[0mbatch\u001b[0m\u001b[0;34m)\u001b[0m\u001b[0;34m\u001b[0m\u001b[0m\n",
      "\u001b[0;32m<ipython-input-105-50bc84583961>\u001b[0m in \u001b[0;36mget_batch\u001b[0;34m(self, batch_size)\u001b[0m\n\u001b[1;32m     29\u001b[0m             \u001b[0mrandom_idxs\u001b[0m \u001b[0;34m=\u001b[0m \u001b[0mnp\u001b[0m\u001b[0;34m.\u001b[0m\u001b[0mrandom\u001b[0m\u001b[0;34m.\u001b[0m\u001b[0mchoice\u001b[0m\u001b[0;34m(\u001b[0m\u001b[0mlen\u001b[0m\u001b[0;34m(\u001b[0m\u001b[0my\u001b[0m\u001b[0;34m)\u001b[0m\u001b[0;34m,\u001b[0m \u001b[0mlen\u001b[0m\u001b[0;34m(\u001b[0m\u001b[0my\u001b[0m\u001b[0;34m)\u001b[0m\u001b[0;34m,\u001b[0m \u001b[0mreplace\u001b[0m\u001b[0;34m=\u001b[0m\u001b[0;32mFalse\u001b[0m\u001b[0;34m)\u001b[0m\u001b[0;34m\u001b[0m\u001b[0m\n\u001b[1;32m     30\u001b[0m \u001b[0;34m\u001b[0m\u001b[0m\n\u001b[0;32m---> 31\u001b[0;31m             \u001b[0mX_shuffled\u001b[0m \u001b[0;34m=\u001b[0m \u001b[0mX\u001b[0m\u001b[0;34m[\u001b[0m\u001b[0mrandom_idxs\u001b[0m\u001b[0;34m,\u001b[0m\u001b[0;34m:\u001b[0m\u001b[0;34m]\u001b[0m\u001b[0;34m\u001b[0m\u001b[0m\n\u001b[0m\u001b[1;32m     32\u001b[0m             \u001b[0my_shuffled\u001b[0m \u001b[0;34m=\u001b[0m \u001b[0my\u001b[0m\u001b[0;34m[\u001b[0m\u001b[0mrandom_idxs\u001b[0m\u001b[0;34m]\u001b[0m\u001b[0;34m\u001b[0m\u001b[0m\n\u001b[1;32m     33\u001b[0m             mini_batches = [(X_shuffled[i:i+batch_size,:], y_shuffled[i:i+batch_size]) for\n",
      "\u001b[0;31mKeyboardInterrupt\u001b[0m: "
     ]
    }
   ],
   "source": [
    "best_lamb = my_cross_validation(x_train,y_train,250,3)"
   ]
  },
  {
   "cell_type": "markdown",
   "metadata": {},
   "source": [
    "## Problem 2 Redux: Different Birds\n",
    "\n",
    "For the sake of completeness we will run the above set of anaylses on a different bird pair -- say 'lorikeet' and 'red-breasted'merganser'. Data was obtained using load_bird_data() like before, stored as csv files from AWS, and stored in this containing submission folder too"
   ]
  },
  {
   "cell_type": "code",
   "execution_count": 55,
   "metadata": {},
   "outputs": [
    {
     "name": "stdout",
     "output_type": "stream",
     "text": [
      "Showing first 50 error iterates of training data....\n"
     ]
    },
    {
     "data": {
      "text/plain": [
       "[1.0,\n",
       " 0.008000000000000007,\n",
       " 0.008000000000000007,\n",
       " 0.008000000000000007,\n",
       " 0.008000000000000007,\n",
       " 0.008000000000000007,\n",
       " 0.008000000000000007,\n",
       " 0.008000000000000007,\n",
       " 0.008000000000000007,\n",
       " 0.008000000000000007,\n",
       " 0.008000000000000007,\n",
       " 0.008000000000000007,\n",
       " 0.008000000000000007,\n",
       " 0.008000000000000007,\n",
       " 0.008000000000000007,\n",
       " 0.008000000000000007,\n",
       " 0.008000000000000007,\n",
       " 0.008000000000000007,\n",
       " 0.008000000000000007,\n",
       " 0.008000000000000007,\n",
       " 0.008000000000000007,\n",
       " 0.008000000000000007,\n",
       " 0.008000000000000007,\n",
       " 0.008000000000000007,\n",
       " 0.008000000000000007,\n",
       " 0.008000000000000007,\n",
       " 0.008000000000000007,\n",
       " 0.008000000000000007,\n",
       " 0.008000000000000007,\n",
       " 0.008000000000000007,\n",
       " 0.008000000000000007,\n",
       " 0.008000000000000007,\n",
       " 0.008000000000000007,\n",
       " 0.008000000000000007,\n",
       " 0.008000000000000007,\n",
       " 0.008000000000000007,\n",
       " 0.008000000000000007,\n",
       " 0.008000000000000007,\n",
       " 0.008000000000000007,\n",
       " 0.008000000000000007,\n",
       " 0.008000000000000007,\n",
       " 0.008000000000000007,\n",
       " 0.008000000000000007,\n",
       " 0.008000000000000007,\n",
       " 0.008000000000000007,\n",
       " 0.008000000000000007,\n",
       " 0.008000000000000007,\n",
       " 0.008000000000000007,\n",
       " 0.008000000000000007,\n",
       " 0.008000000000000007]"
      ]
     },
     "execution_count": 55,
     "metadata": {},
     "output_type": "execute_result"
    }
   ],
   "source": [
    "betaIterates = np.genfromtxt('betaIterates_MerganserLorikeet.csv', delimiter = \" \")\n",
    "\n",
    "x_train = np.genfromtxt('X_train_merganserLorikeet.csv', delimiter = \" \")\n",
    "y_train = np.genfromtxt('y_train_merganserLorikeet.csv', delimiter = \" \")\n",
    "x_test = np.genfromtxt('X_test_merganserLorikeet.csv', delimiter = \" \")\n",
    "y_test = np.genfromtxt('y_test_merganserLorikeet.csv', delimiter = \" \")\n",
    "\n",
    "\n",
    "\n",
    "from sklearn.preprocessing import StandardScaler\n",
    "scaler = StandardScaler()\n",
    "x_train = scaler.fit_transform(x_train)\n",
    "x_test = scaler.transform(x_test)\n",
    "\n",
    "\n",
    "\n",
    "training_data_errs = misclassification_error(x_train.T, y_train, betaIterates)\n",
    "validation_data_errs = misclassification_error(x_test.T, y_test, betaIterates)\n",
    "print(\"Showing first 50 error iterates of training data....\")\n",
    "training_data_errs[0:50]"
   ]
  },
  {
   "cell_type": "code",
   "execution_count": 54,
   "metadata": {},
   "outputs": [
    {
     "ename": "ValueError",
     "evalue": "shapes (819200,1) and (4096,) not aligned: 1 (dim 1) != 4096 (dim 0)",
     "output_type": "error",
     "traceback": [
      "\u001b[0;31m---------------------------------------------------------------------------\u001b[0m",
      "\u001b[0;31mValueError\u001b[0m                                Traceback (most recent call last)",
      "\u001b[0;32m<ipython-input-54-df0922f21056>\u001b[0m in \u001b[0;36m<module>\u001b[0;34m()\u001b[0m\n\u001b[1;32m      1\u001b[0m \u001b[0mb\u001b[0m\u001b[0;34m=\u001b[0m\u001b[0mbetaIterates\u001b[0m\u001b[0;34m[\u001b[0m\u001b[0;34m-\u001b[0m\u001b[0;36m1\u001b[0m\u001b[0;34m]\u001b[0m\u001b[0;34m\u001b[0m\u001b[0m\n\u001b[1;32m      2\u001b[0m \u001b[0mb\u001b[0m\u001b[0;34m.\u001b[0m\u001b[0mshape\u001b[0m\u001b[0;34m\u001b[0m\u001b[0m\n\u001b[0;32m----> 3\u001b[0;31m \u001b[0mx_test\u001b[0m\u001b[0;34m.\u001b[0m\u001b[0mdot\u001b[0m\u001b[0;34m(\u001b[0m\u001b[0mb\u001b[0m\u001b[0;34m)\u001b[0m\u001b[0;34m\u001b[0m\u001b[0m\n\u001b[0m",
      "\u001b[0;31mValueError\u001b[0m: shapes (819200,1) and (4096,) not aligned: 1 (dim 1) != 4096 (dim 0)"
     ]
    }
   ],
   "source": [
    "b=betaIterates[-1]\n",
    "b.shape\n",
    "x_test.dot(b)"
   ]
  },
  {
   "cell_type": "code",
   "execution_count": 41,
   "metadata": {},
   "outputs": [
    {
     "data": {
      "image/png": "[encoded data removed]",
      "text/plain": [
       "<Figure size 432x288 with 1 Axes>"
      ]
     },
     "metadata": {},
     "output_type": "display_data"
    }
   ],
   "source": [
    "\n",
    "plt.plot(training_data_errs, 'r',label='training err')\n",
    "plt.plot(validation_data_errs, 'g',label='validation err')\n",
    "plt.legend()\n",
    "plt.title('Different Birds')\n",
    "plt.show()"
   ]
  },
  {
   "cell_type": "markdown",
   "metadata": {},
   "source": [
    "* Um...still same problem with validation set error...? If we zoo"
   ]
  }
 ],
 "metadata": {
  "kernelspec": {
   "display_name": "Python 3",
   "language": "python",
   "name": "python3"
  },
  "language_info": {
   "codemirror_mode": {
    "name": "ipython",
    "version": 3
   },
   "file_extension": ".py",
   "mimetype": "text/x-python",
   "name": "python",
   "nbconvert_exporter": "python",
   "pygments_lexer": "ipython3",
   "version": "3.6.5"
  }
 },
 "nbformat": 4,
 "nbformat_minor": 2
}
